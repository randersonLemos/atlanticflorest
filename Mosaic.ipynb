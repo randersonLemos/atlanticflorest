{
 "cells": [
  {
   "cell_type": "code",
   "execution_count": 1,
   "id": "171e5b3b",
   "metadata": {},
   "outputs": [],
   "source": [
    "import pathlib\n",
    "import rasterio\n",
    "from rasterio.plot import show\n",
    "from rasterio.merge import merge\n",
    "import geopandas as gpd"
   ]
  },
  {
   "cell_type": "code",
   "execution_count": 2,
   "id": "616474c3",
   "metadata": {},
   "outputs": [
    {
     "data": {
      "text/plain": [
       "PosixPath('/mnt/d/available/MAPBIOMAS-FIRE-MATAATLANTICA')"
      ]
     },
     "execution_count": 2,
     "metadata": {},
     "output_type": "execute_result"
    }
   ],
   "source": [
    "dirr = pathlib.Path('/mnt/d/available/MAPBIOMAS-FIRE-MATAATLANTICA')\n",
    "dirr"
   ]
  },
  {
   "cell_type": "code",
   "execution_count": 3,
   "id": "ccdce315",
   "metadata": {},
   "outputs": [
    {
     "data": {
      "text/plain": [
       "['/mnt/d/available/MAPBIOMAS-FIRE-MATAATLANTICA/mapbiomas-brazil-collection-20-mataatlantica-2022-0000000000-0000000000.tif',\n",
       " '/mnt/d/available/MAPBIOMAS-FIRE-MATAATLANTICA/mapbiomas-brazil-collection-20-mataatlantica-2022-0000000000-0000031744.tif',\n",
       " '/mnt/d/available/MAPBIOMAS-FIRE-MATAATLANTICA/mapbiomas-brazil-collection-20-mataatlantica-2022-0000000000-0000063488.tif',\n",
       " '/mnt/d/available/MAPBIOMAS-FIRE-MATAATLANTICA/mapbiomas-brazil-collection-20-mataatlantica-2022-0000000000-0000095232.tif',\n",
       " '/mnt/d/available/MAPBIOMAS-FIRE-MATAATLANTICA/mapbiomas-brazil-collection-20-mataatlantica-2022-0000031744-0000000000.tif',\n",
       " '/mnt/d/available/MAPBIOMAS-FIRE-MATAATLANTICA/mapbiomas-brazil-collection-20-mataatlantica-2022-0000031744-0000031744.tif',\n",
       " '/mnt/d/available/MAPBIOMAS-FIRE-MATAATLANTICA/mapbiomas-brazil-collection-20-mataatlantica-2022-0000031744-0000063488.tif',\n",
       " '/mnt/d/available/MAPBIOMAS-FIRE-MATAATLANTICA/mapbiomas-brazil-collection-20-mataatlantica-2022-0000031744-0000095232.tif',\n",
       " '/mnt/d/available/MAPBIOMAS-FIRE-MATAATLANTICA/mapbiomas-brazil-collection-20-mataatlantica-2022-0000063488-0000000000.tif',\n",
       " '/mnt/d/available/MAPBIOMAS-FIRE-MATAATLANTICA/mapbiomas-brazil-collection-20-mataatlantica-2022-0000063488-0000031744.tif',\n",
       " '/mnt/d/available/MAPBIOMAS-FIRE-MATAATLANTICA/mapbiomas-brazil-collection-20-mataatlantica-2022-0000063488-0000063488.tif',\n",
       " '/mnt/d/available/MAPBIOMAS-FIRE-MATAATLANTICA/mapbiomas-brazil-collection-20-mataatlantica-2022-0000063488-0000095232.tif',\n",
       " '/mnt/d/available/MAPBIOMAS-FIRE-MATAATLANTICA/mapbiomas-brazil-collection-20-mataatlantica-2022-0000095232-0000000000.tif',\n",
       " '/mnt/d/available/MAPBIOMAS-FIRE-MATAATLANTICA/mapbiomas-brazil-collection-20-mataatlantica-2022-0000095232-0000031744.tif',\n",
       " '/mnt/d/available/MAPBIOMAS-FIRE-MATAATLANTICA/mapbiomas-brazil-collection-20-mataatlantica-2022-0000095232-0000063488.tif',\n",
       " '/mnt/d/available/MAPBIOMAS-FIRE-MATAATLANTICA/mapbiomas-brazil-collection-20-mataatlantica-2022-0000095232-0000095232.tif']"
      ]
     },
     "execution_count": 3,
     "metadata": {},
     "output_type": "execute_result"
    }
   ],
   "source": [
    "files = [str(file) for file in dirr.iterdir()]\n",
    "files"
   ]
  },
  {
   "cell_type": "code",
   "execution_count": 4,
   "id": "d5a09436",
   "metadata": {},
   "outputs": [
    {
     "name": "stdout",
     "output_type": "stream",
     "text": [
      "1\n",
      "31744 31744\n",
      "BoundingBox(left=-55.33478419730795, bottom=-7.636937556413697, right=-46.77994808358092, top=0.9178985573133289)\n",
      "| 0.00, 0.00,-55.33|\n",
      "| 0.00,-0.00, 0.92|\n",
      "| 0.00, 0.00, 1.00|\n",
      "EPSG:4326\n",
      "---\n",
      "1\n",
      "31744 31744\n",
      "BoundingBox(left=-46.77994808358092, bottom=-7.636937556413697, right=-38.22511196985389, top=0.9178985573133289)\n",
      "| 0.00, 0.00,-46.78|\n",
      "| 0.00,-0.00, 0.92|\n",
      "| 0.00, 0.00, 1.00|\n",
      "EPSG:4326\n",
      "---\n",
      "1\n",
      "31744 31744\n",
      "BoundingBox(left=-38.2251119698539, bottom=-7.636937556413697, right=-29.67027585612687, top=0.9178985573133289)\n",
      "| 0.00, 0.00,-38.23|\n",
      "| 0.00,-0.00, 0.92|\n",
      "| 0.00, 0.00, 1.00|\n",
      "EPSG:4326\n",
      "---\n",
      "1\n",
      "31744 3053\n",
      "BoundingBox(left=-29.670275856126867, bottom=-7.636937556413697, right=-28.847508887401798, top=0.9178985573133289)\n",
      "| 0.00, 0.00,-29.67|\n",
      "| 0.00,-0.00, 0.92|\n",
      "| 0.00, 0.00, 1.00|\n",
      "EPSG:4326\n",
      "---\n",
      "1\n",
      "31744 31744\n",
      "BoundingBox(left=-55.33478419730795, bottom=-16.191773670140723, right=-46.77994808358092, top=-7.636937556413697)\n",
      "| 0.00, 0.00,-55.33|\n",
      "| 0.00,-0.00,-7.64|\n",
      "| 0.00, 0.00, 1.00|\n",
      "EPSG:4326\n",
      "---\n",
      "1\n",
      "31744 31744\n",
      "BoundingBox(left=-46.77994808358092, bottom=-16.191773670140723, right=-38.22511196985389, top=-7.636937556413697)\n",
      "| 0.00, 0.00,-46.78|\n",
      "| 0.00,-0.00,-7.64|\n",
      "| 0.00, 0.00, 1.00|\n",
      "EPSG:4326\n",
      "---\n",
      "1\n",
      "31744 31744\n",
      "BoundingBox(left=-38.2251119698539, bottom=-16.191773670140723, right=-29.67027585612687, top=-7.636937556413697)\n",
      "| 0.00, 0.00,-38.23|\n",
      "| 0.00,-0.00,-7.64|\n",
      "| 0.00, 0.00, 1.00|\n",
      "EPSG:4326\n",
      "---\n",
      "1\n",
      "31744 3053\n",
      "BoundingBox(left=-29.670275856126867, bottom=-16.191773670140723, right=-28.847508887401798, top=-7.636937556413697)\n",
      "| 0.00, 0.00,-29.67|\n",
      "| 0.00,-0.00,-7.64|\n",
      "| 0.00, 0.00, 1.00|\n",
      "EPSG:4326\n",
      "---\n",
      "1\n",
      "31744 31744\n",
      "BoundingBox(left=-55.33478419730795, bottom=-24.746609783867747, right=-46.77994808358092, top=-16.191773670140723)\n",
      "| 0.00, 0.00,-55.33|\n",
      "| 0.00,-0.00,-16.19|\n",
      "| 0.00, 0.00, 1.00|\n",
      "EPSG:4326\n",
      "---\n",
      "1\n",
      "31744 31744\n",
      "BoundingBox(left=-46.77994808358092, bottom=-24.746609783867747, right=-38.22511196985389, top=-16.191773670140723)\n",
      "| 0.00, 0.00,-46.78|\n",
      "| 0.00,-0.00,-16.19|\n",
      "| 0.00, 0.00, 1.00|\n",
      "EPSG:4326\n",
      "---\n",
      "1\n",
      "31744 31744\n",
      "BoundingBox(left=-38.2251119698539, bottom=-24.746609783867747, right=-29.67027585612687, top=-16.191773670140723)\n",
      "| 0.00, 0.00,-38.23|\n",
      "| 0.00,-0.00,-16.19|\n",
      "| 0.00, 0.00, 1.00|\n",
      "EPSG:4326\n",
      "---\n",
      "1\n",
      "31744 3053\n",
      "BoundingBox(left=-29.670275856126867, bottom=-24.746609783867747, right=-28.847508887401798, top=-16.191773670140723)\n",
      "| 0.00, 0.00,-29.67|\n",
      "| 0.00,-0.00,-16.19|\n",
      "| 0.00, 0.00, 1.00|\n",
      "EPSG:4326\n",
      "---\n",
      "1\n",
      "19425 31744\n",
      "BoundingBox(left=-55.33478419730795, bottom=-29.98154210207426, right=-46.77994808358092, top=-24.74660978386775)\n",
      "| 0.00, 0.00,-55.33|\n",
      "| 0.00,-0.00,-24.75|\n",
      "| 0.00, 0.00, 1.00|\n",
      "EPSG:4326\n",
      "---\n",
      "1\n",
      "19425 31744\n",
      "BoundingBox(left=-46.77994808358092, bottom=-29.98154210207426, right=-38.22511196985389, top=-24.74660978386775)\n",
      "| 0.00, 0.00,-46.78|\n",
      "| 0.00,-0.00,-24.75|\n",
      "| 0.00, 0.00, 1.00|\n",
      "EPSG:4326\n",
      "---\n",
      "1\n",
      "19425 31744\n",
      "BoundingBox(left=-38.2251119698539, bottom=-29.98154210207426, right=-29.67027585612687, top=-24.74660978386775)\n",
      "| 0.00, 0.00,-38.23|\n",
      "| 0.00,-0.00,-24.75|\n",
      "| 0.00, 0.00, 1.00|\n",
      "EPSG:4326\n",
      "---\n",
      "1\n",
      "19425 3053\n",
      "BoundingBox(left=-29.670275856126867, bottom=-29.98154210207426, right=-28.847508887401798, top=-24.74660978386775)\n",
      "| 0.00, 0.00,-29.67|\n",
      "| 0.00,-0.00,-24.75|\n",
      "| 0.00, 0.00, 1.00|\n",
      "EPSG:4326\n",
      "---\n"
     ]
    }
   ],
   "source": [
    "rasters = []\n",
    "for file in files:       \n",
    "    raster = rasterio.open(file)\n",
    "    print(raster.count)\n",
    "    print(raster.height, raster.width)\n",
    "    print(raster.bounds)\n",
    "    print(raster.transform)\n",
    "    print(raster.crs)\n",
    "    print('---')\n",
    "    rasters.append(raster)\n"
   ]
  },
  {
   "cell_type": "code",
   "execution_count": 5,
   "id": "58c3b7af",
   "metadata": {},
   "outputs": [],
   "source": [
    "arr, trans = merge(rasters)"
   ]
  },
  {
   "cell_type": "code",
   "execution_count": null,
   "id": "522c595a",
   "metadata": {},
   "outputs": [],
   "source": [
    "raster = rasterio.open(\n",
    "      'raster.tff'\n",
    "    , 'w'\n",
    "    , driver='GTiff'\n",
    "    , height=arr.shape[0]\n",
    "    , width=arr.shape[1]\n",
    "    , count=1\n",
    "    , dtype=arr.dtype\n",
    "    , crs='EPSG:4326'\n",
    "    , transform=trans\n",
    ")\n",
    "raster.write(arr, 1)\n",
    "raster.close()"
   ]
  },
  {
   "cell_type": "code",
   "execution_count": null,
   "id": "252bd7b5",
   "metadata": {},
   "outputs": [],
   "source": []
  }
 ],
 "metadata": {
  "kernelspec": {
   "display_name": "Python 3 (ipykernel)",
   "language": "python",
   "name": "python3"
  },
  "language_info": {
   "codemirror_mode": {
    "name": "ipython",
    "version": 3
   },
   "file_extension": ".py",
   "mimetype": "text/x-python",
   "name": "python",
   "nbconvert_exporter": "python",
   "pygments_lexer": "ipython3",
   "version": "3.11.6"
  }
 },
 "nbformat": 4,
 "nbformat_minor": 5
}
