{
 "cells": [
  {
   "cell_type": "code",
   "execution_count": 1,
   "id": "d15bb7c7",
   "metadata": {
    "scrolled": true
   },
   "outputs": [
    {
     "name": "stdout",
     "output_type": "stream",
     "text": [
      "Requirement already satisfied: earthengine-api in /home/beldroega/anaconda3/envs/atlanticforest/lib/python3.11/site-packages (0.1.395)\n",
      "Requirement already satisfied: geemap in /home/beldroega/anaconda3/envs/atlanticforest/lib/python3.11/site-packages (0.32.0)\n",
      "Requirement already satisfied: google-cloud-storage in /home/beldroega/anaconda3/envs/atlanticforest/lib/python3.11/site-packages (from earthengine-api) (2.16.0)\n",
      "Requirement already satisfied: google-api-python-client>=1.12.1 in /home/beldroega/anaconda3/envs/atlanticforest/lib/python3.11/site-packages (from earthengine-api) (2.123.0)\n",
      "Requirement already satisfied: google-auth>=1.4.1 in /home/beldroega/anaconda3/envs/atlanticforest/lib/python3.11/site-packages (from earthengine-api) (2.29.0)\n",
      "Requirement already satisfied: google-auth-httplib2>=0.0.3 in /home/beldroega/anaconda3/envs/atlanticforest/lib/python3.11/site-packages (from earthengine-api) (0.2.0)\n",
      "Requirement already satisfied: httplib2<1dev,>=0.9.2 in /home/beldroega/anaconda3/envs/atlanticforest/lib/python3.11/site-packages (from earthengine-api) (0.22.0)\n",
      "Requirement already satisfied: requests in /home/beldroega/anaconda3/envs/atlanticforest/lib/python3.11/site-packages (from earthengine-api) (2.31.0)\n",
      "Requirement already satisfied: bqplot in /home/beldroega/anaconda3/envs/atlanticforest/lib/python3.11/site-packages (from geemap) (0.12.43)\n",
      "Requirement already satisfied: colour in /home/beldroega/anaconda3/envs/atlanticforest/lib/python3.11/site-packages (from geemap) (0.1.5)\n",
      "Requirement already satisfied: eerepr>=0.0.4 in /home/beldroega/anaconda3/envs/atlanticforest/lib/python3.11/site-packages (from geemap) (0.0.4)\n",
      "Requirement already satisfied: folium>=0.13.0 in /home/beldroega/anaconda3/envs/atlanticforest/lib/python3.11/site-packages (from geemap) (0.16.0)\n",
      "Requirement already satisfied: geocoder in /home/beldroega/anaconda3/envs/atlanticforest/lib/python3.11/site-packages (from geemap) (1.38.1)\n",
      "Requirement already satisfied: ipyevents in /home/beldroega/anaconda3/envs/atlanticforest/lib/python3.11/site-packages (from geemap) (2.0.2)\n",
      "Requirement already satisfied: ipyfilechooser>=0.6.0 in /home/beldroega/anaconda3/envs/atlanticforest/lib/python3.11/site-packages (from geemap) (0.6.0)\n",
      "Requirement already satisfied: ipyleaflet>=0.17.0 in /home/beldroega/anaconda3/envs/atlanticforest/lib/python3.11/site-packages (from geemap) (0.18.2)\n",
      "Requirement already satisfied: ipytree in /home/beldroega/anaconda3/envs/atlanticforest/lib/python3.11/site-packages (from geemap) (0.2.2)\n",
      "Requirement already satisfied: matplotlib in /home/beldroega/anaconda3/envs/atlanticforest/lib/python3.11/site-packages (from geemap) (3.8.0)\n",
      "Requirement already satisfied: numpy in /home/beldroega/anaconda3/envs/atlanticforest/lib/python3.11/site-packages (from geemap) (1.26.4)\n",
      "Requirement already satisfied: pandas in /home/beldroega/anaconda3/envs/atlanticforest/lib/python3.11/site-packages (from geemap) (2.2.1)\n",
      "Requirement already satisfied: plotly in /home/beldroega/anaconda3/envs/atlanticforest/lib/python3.11/site-packages (from geemap) (5.19.0)\n",
      "Requirement already satisfied: pyperclip in /home/beldroega/anaconda3/envs/atlanticforest/lib/python3.11/site-packages (from geemap) (1.8.2)\n",
      "Requirement already satisfied: pyshp>=2.1.3 in /home/beldroega/anaconda3/envs/atlanticforest/lib/python3.11/site-packages (from geemap) (2.3.1)\n",
      "Requirement already satisfied: python-box in /home/beldroega/anaconda3/envs/atlanticforest/lib/python3.11/site-packages (from geemap) (7.1.1)\n",
      "Requirement already satisfied: scooby in /home/beldroega/anaconda3/envs/atlanticforest/lib/python3.11/site-packages (from geemap) (0.9.2)\n",
      "Requirement already satisfied: branca>=0.6.0 in /home/beldroega/anaconda3/envs/atlanticforest/lib/python3.11/site-packages (from folium>=0.13.0->geemap) (0.7.1)\n",
      "Requirement already satisfied: jinja2>=2.9 in /home/beldroega/anaconda3/envs/atlanticforest/lib/python3.11/site-packages (from folium>=0.13.0->geemap) (3.1.3)\n",
      "Requirement already satisfied: xyzservices in /home/beldroega/anaconda3/envs/atlanticforest/lib/python3.11/site-packages (from folium>=0.13.0->geemap) (2023.10.1)\n",
      "Requirement already satisfied: google-api-core!=2.0.*,!=2.1.*,!=2.2.*,!=2.3.0,<3.0.0.dev0,>=1.31.5 in /home/beldroega/anaconda3/envs/atlanticforest/lib/python3.11/site-packages (from google-api-python-client>=1.12.1->earthengine-api) (2.18.0)\n",
      "Requirement already satisfied: uritemplate<5,>=3.0.1 in /home/beldroega/anaconda3/envs/atlanticforest/lib/python3.11/site-packages (from google-api-python-client>=1.12.1->earthengine-api) (4.1.1)\n",
      "Requirement already satisfied: cachetools<6.0,>=2.0.0 in /home/beldroega/anaconda3/envs/atlanticforest/lib/python3.11/site-packages (from google-auth>=1.4.1->earthengine-api) (5.3.3)\n",
      "Requirement already satisfied: pyasn1-modules>=0.2.1 in /home/beldroega/anaconda3/envs/atlanticforest/lib/python3.11/site-packages (from google-auth>=1.4.1->earthengine-api) (0.3.0)\n",
      "Requirement already satisfied: rsa<5,>=3.1.4 in /home/beldroega/anaconda3/envs/atlanticforest/lib/python3.11/site-packages (from google-auth>=1.4.1->earthengine-api) (4.9)\n",
      "Requirement already satisfied: pyparsing!=3.0.0,!=3.0.1,!=3.0.2,!=3.0.3,<4,>=2.4.2 in /home/beldroega/anaconda3/envs/atlanticforest/lib/python3.11/site-packages (from httplib2<1dev,>=0.9.2->earthengine-api) (3.0.9)\n",
      "Requirement already satisfied: ipywidgets in /home/beldroega/anaconda3/envs/atlanticforest/lib/python3.11/site-packages (from ipyfilechooser>=0.6.0->geemap) (8.1.2)\n",
      "Requirement already satisfied: traittypes<3,>=0.2.1 in /home/beldroega/anaconda3/envs/atlanticforest/lib/python3.11/site-packages (from ipyleaflet>=0.17.0->geemap) (0.2.1)\n",
      "Requirement already satisfied: traitlets>=4.3.0 in /home/beldroega/anaconda3/envs/atlanticforest/lib/python3.11/site-packages (from bqplot->geemap) (5.14.2)\n",
      "Requirement already satisfied: python-dateutil>=2.8.2 in /home/beldroega/anaconda3/envs/atlanticforest/lib/python3.11/site-packages (from pandas->geemap) (2.9.0)\n",
      "Requirement already satisfied: pytz>=2020.1 in /home/beldroega/anaconda3/envs/atlanticforest/lib/python3.11/site-packages (from pandas->geemap) (2024.1)\n",
      "Requirement already satisfied: tzdata>=2022.7 in /home/beldroega/anaconda3/envs/atlanticforest/lib/python3.11/site-packages (from pandas->geemap) (2024.1)\n",
      "Requirement already satisfied: ratelim in /home/beldroega/anaconda3/envs/atlanticforest/lib/python3.11/site-packages (from geocoder->geemap) (0.1.6)\n",
      "Requirement already satisfied: click in /home/beldroega/anaconda3/envs/atlanticforest/lib/python3.11/site-packages (from geocoder->geemap) (8.1.7)\n",
      "Requirement already satisfied: six in /home/beldroega/anaconda3/envs/atlanticforest/lib/python3.11/site-packages (from geocoder->geemap) (1.16.0)\n",
      "Requirement already satisfied: future in /home/beldroega/anaconda3/envs/atlanticforest/lib/python3.11/site-packages (from geocoder->geemap) (1.0.0)\n",
      "Requirement already satisfied: google-cloud-core<3.0dev,>=2.3.0 in /home/beldroega/anaconda3/envs/atlanticforest/lib/python3.11/site-packages (from google-cloud-storage->earthengine-api) (2.4.1)\n",
      "Requirement already satisfied: google-resumable-media>=2.6.0 in /home/beldroega/anaconda3/envs/atlanticforest/lib/python3.11/site-packages (from google-cloud-storage->earthengine-api) (2.7.0)\n",
      "Requirement already satisfied: google-crc32c<2.0dev,>=1.0 in /home/beldroega/anaconda3/envs/atlanticforest/lib/python3.11/site-packages (from google-cloud-storage->earthengine-api) (1.1.2)\n",
      "Requirement already satisfied: charset-normalizer<4,>=2 in /home/beldroega/anaconda3/envs/atlanticforest/lib/python3.11/site-packages (from requests->earthengine-api) (3.3.2)\n",
      "Requirement already satisfied: idna<4,>=2.5 in /home/beldroega/anaconda3/envs/atlanticforest/lib/python3.11/site-packages (from requests->earthengine-api) (3.6)\n",
      "Requirement already satisfied: urllib3<3,>=1.21.1 in /home/beldroega/anaconda3/envs/atlanticforest/lib/python3.11/site-packages (from requests->earthengine-api) (2.2.1)\n",
      "Requirement already satisfied: certifi>=2017.4.17 in /home/beldroega/anaconda3/envs/atlanticforest/lib/python3.11/site-packages (from requests->earthengine-api) (2024.2.2)\n",
      "Requirement already satisfied: contourpy>=1.0.1 in /home/beldroega/anaconda3/envs/atlanticforest/lib/python3.11/site-packages (from matplotlib->geemap) (1.2.0)\n",
      "Requirement already satisfied: cycler>=0.10 in /home/beldroega/anaconda3/envs/atlanticforest/lib/python3.11/site-packages (from matplotlib->geemap) (0.12.1)\n",
      "Requirement already satisfied: fonttools>=4.22.0 in /home/beldroega/anaconda3/envs/atlanticforest/lib/python3.11/site-packages (from matplotlib->geemap) (4.50.0)\n",
      "Requirement already satisfied: kiwisolver>=1.0.1 in /home/beldroega/anaconda3/envs/atlanticforest/lib/python3.11/site-packages (from matplotlib->geemap) (1.4.4)\n",
      "Requirement already satisfied: packaging>=20.0 in /home/beldroega/anaconda3/envs/atlanticforest/lib/python3.11/site-packages (from matplotlib->geemap) (24.0)\n",
      "Requirement already satisfied: pillow>=6.2.0 in /home/beldroega/anaconda3/envs/atlanticforest/lib/python3.11/site-packages (from matplotlib->geemap) (10.2.0)\n",
      "Requirement already satisfied: tenacity>=6.2.0 in /home/beldroega/anaconda3/envs/atlanticforest/lib/python3.11/site-packages (from plotly->geemap) (8.2.3)\n"
     ]
    },
    {
     "name": "stdout",
     "output_type": "stream",
     "text": [
      "Requirement already satisfied: googleapis-common-protos<2.0.dev0,>=1.56.2 in /home/beldroega/anaconda3/envs/atlanticforest/lib/python3.11/site-packages (from google-api-core!=2.0.*,!=2.1.*,!=2.2.*,!=2.3.0,<3.0.0.dev0,>=1.31.5->google-api-python-client>=1.12.1->earthengine-api) (1.63.0)\n",
      "Requirement already satisfied: protobuf!=3.20.0,!=3.20.1,!=4.21.0,!=4.21.1,!=4.21.2,!=4.21.3,!=4.21.4,!=4.21.5,<5.0.0.dev0,>=3.19.5 in /home/beldroega/anaconda3/envs/atlanticforest/lib/python3.11/site-packages (from google-api-core!=2.0.*,!=2.1.*,!=2.2.*,!=2.3.0,<3.0.0.dev0,>=1.31.5->google-api-python-client>=1.12.1->earthengine-api) (3.20.3)\n",
      "Requirement already satisfied: proto-plus<2.0.0dev,>=1.22.3 in /home/beldroega/anaconda3/envs/atlanticforest/lib/python3.11/site-packages (from google-api-core!=2.0.*,!=2.1.*,!=2.2.*,!=2.3.0,<3.0.0.dev0,>=1.31.5->google-api-python-client>=1.12.1->earthengine-api) (1.23.0)\n",
      "Requirement already satisfied: cffi>=1.0.0 in /home/beldroega/anaconda3/envs/atlanticforest/lib/python3.11/site-packages (from google-crc32c<2.0dev,>=1.0->google-cloud-storage->earthengine-api) (1.16.0)\n",
      "Requirement already satisfied: comm>=0.1.3 in /home/beldroega/anaconda3/envs/atlanticforest/lib/python3.11/site-packages (from ipywidgets->ipyfilechooser>=0.6.0->geemap) (0.2.2)\n",
      "Requirement already satisfied: ipython>=6.1.0 in /home/beldroega/anaconda3/envs/atlanticforest/lib/python3.11/site-packages (from ipywidgets->ipyfilechooser>=0.6.0->geemap) (8.22.2)\n",
      "Requirement already satisfied: widgetsnbextension~=4.0.10 in /home/beldroega/anaconda3/envs/atlanticforest/lib/python3.11/site-packages (from ipywidgets->ipyfilechooser>=0.6.0->geemap) (4.0.10)\n",
      "Requirement already satisfied: jupyterlab-widgets~=3.0.10 in /home/beldroega/anaconda3/envs/atlanticforest/lib/python3.11/site-packages (from ipywidgets->ipyfilechooser>=0.6.0->geemap) (3.0.10)\n",
      "Requirement already satisfied: MarkupSafe>=2.0 in /home/beldroega/anaconda3/envs/atlanticforest/lib/python3.11/site-packages (from jinja2>=2.9->folium>=0.13.0->geemap) (2.1.5)\n",
      "Requirement already satisfied: pyasn1<0.6.0,>=0.4.6 in /home/beldroega/anaconda3/envs/atlanticforest/lib/python3.11/site-packages (from pyasn1-modules>=0.2.1->google-auth>=1.4.1->earthengine-api) (0.5.1)\n",
      "Requirement already satisfied: decorator in /home/beldroega/anaconda3/envs/atlanticforest/lib/python3.11/site-packages (from ratelim->geocoder->geemap) (5.1.1)\n",
      "Requirement already satisfied: pycparser in /home/beldroega/anaconda3/envs/atlanticforest/lib/python3.11/site-packages (from cffi>=1.0.0->google-crc32c<2.0dev,>=1.0->google-cloud-storage->earthengine-api) (2.21)\n",
      "Requirement already satisfied: jedi>=0.16 in /home/beldroega/anaconda3/envs/atlanticforest/lib/python3.11/site-packages (from ipython>=6.1.0->ipywidgets->ipyfilechooser>=0.6.0->geemap) (0.19.1)\n",
      "Requirement already satisfied: matplotlib-inline in /home/beldroega/anaconda3/envs/atlanticforest/lib/python3.11/site-packages (from ipython>=6.1.0->ipywidgets->ipyfilechooser>=0.6.0->geemap) (0.1.6)\n",
      "Requirement already satisfied: prompt-toolkit<3.1.0,>=3.0.41 in /home/beldroega/anaconda3/envs/atlanticforest/lib/python3.11/site-packages (from ipython>=6.1.0->ipywidgets->ipyfilechooser>=0.6.0->geemap) (3.0.42)\n",
      "Requirement already satisfied: pygments>=2.4.0 in /home/beldroega/anaconda3/envs/atlanticforest/lib/python3.11/site-packages (from ipython>=6.1.0->ipywidgets->ipyfilechooser>=0.6.0->geemap) (2.17.2)\n",
      "Requirement already satisfied: stack-data in /home/beldroega/anaconda3/envs/atlanticforest/lib/python3.11/site-packages (from ipython>=6.1.0->ipywidgets->ipyfilechooser>=0.6.0->geemap) (0.6.2)\n",
      "Requirement already satisfied: pexpect>4.3 in /home/beldroega/anaconda3/envs/atlanticforest/lib/python3.11/site-packages (from ipython>=6.1.0->ipywidgets->ipyfilechooser>=0.6.0->geemap) (4.9.0)\n",
      "Requirement already satisfied: parso<0.9.0,>=0.8.3 in /home/beldroega/anaconda3/envs/atlanticforest/lib/python3.11/site-packages (from jedi>=0.16->ipython>=6.1.0->ipywidgets->ipyfilechooser>=0.6.0->geemap) (0.8.3)\n",
      "Requirement already satisfied: ptyprocess>=0.5 in /home/beldroega/anaconda3/envs/atlanticforest/lib/python3.11/site-packages (from pexpect>4.3->ipython>=6.1.0->ipywidgets->ipyfilechooser>=0.6.0->geemap) (0.7.0)\n",
      "Requirement already satisfied: wcwidth in /home/beldroega/anaconda3/envs/atlanticforest/lib/python3.11/site-packages (from prompt-toolkit<3.1.0,>=3.0.41->ipython>=6.1.0->ipywidgets->ipyfilechooser>=0.6.0->geemap) (0.2.13)\n",
      "Requirement already satisfied: executing>=1.2.0 in /home/beldroega/anaconda3/envs/atlanticforest/lib/python3.11/site-packages (from stack-data->ipython>=6.1.0->ipywidgets->ipyfilechooser>=0.6.0->geemap) (2.0.1)\n",
      "Requirement already satisfied: asttokens>=2.1.0 in /home/beldroega/anaconda3/envs/atlanticforest/lib/python3.11/site-packages (from stack-data->ipython>=6.1.0->ipywidgets->ipyfilechooser>=0.6.0->geemap) (2.4.1)\n",
      "Requirement already satisfied: pure-eval in /home/beldroega/anaconda3/envs/atlanticforest/lib/python3.11/site-packages (from stack-data->ipython>=6.1.0->ipywidgets->ipyfilechooser>=0.6.0->geemap) (0.2.2)\n"
     ]
    }
   ],
   "source": [
    "!pip install earthengine-api geemap --upgrade"
   ]
  },
  {
   "cell_type": "code",
   "execution_count": 2,
   "id": "18fd9fb7",
   "metadata": {},
   "outputs": [],
   "source": [
    "# Set visualization parameters.\n",
    "visMapbiomes = {\n",
    "  'min': 0,\n",
    "  'max': 65,\n",
    "  'palette': [\n",
    "    '#ffffff', '#32a65e', '#32a65e', '#1f8d49', '#7dc975', '#04381d',\n",
    "    '#026975', '#000000', '#000000', '#7a6c00', '#ad975a', '#519799',\n",
    "    '#d6bc74', '#d89f5c', '#FFFFB2', '#edde8e', '#000000', '#000000',\n",
    "    '#f5b3c8', '#C27BA0', '#db7093', '#ffefc3', '#db4d4f', '#ffa07a',\n",
    "    '#d4271e', '#db4d4f', '#0000FF', '#000000', '#000000', '#ffaa5f',\n",
    "    '#9c0027', '#091077', '#fc8114', '#2532e4', '#93dfe6', '#9065d0',\n",
    "    '#d082de', '#000000', '#000000', '#f5b3c8', '#c71585', '#f54ca9',\n",
    "    '#a5b35b', '#c2d26b', '#cbe286', '#807a40', '#d68fe2', '#9932cc',\n",
    "    '#e6ccff', '#02d659', '#ad5100', '#000000', '#000000', '#000000',\n",
    "    '#000000', '#000000', '#000000', '#f99fff', '#d84690', '#006400',\n",
    "    '#8d9e8b', '#f5d5d5', '#ff69b4', '#000000', '#000000', '#b9158a'\n",
    "]}\n",
    "\n",
    "import ee\n",
    "import geemap\n",
    "\n",
    "# Trigger the authentication flow.\n",
    "ee.Authenticate()\n",
    "\n",
    "# Initialize the library.\n",
    "ee.Initialize(project='ee-mataatlantica')"
   ]
  },
  {
   "cell_type": "code",
   "execution_count": 4,
   "id": "b0515ddd",
   "metadata": {
    "scrolled": true
   },
   "outputs": [
    {
     "data": {
      "text/html": [
       "\n",
       "            <style>\n",
       "                .geemap-dark {\n",
       "                    --jp-widgets-color: white;\n",
       "                    --jp-widgets-label-color: white;\n",
       "                    --jp-ui-font-color1: white;\n",
       "                    --jp-layout-color2: #454545;\n",
       "                    background-color: #383838;\n",
       "                }\n",
       "\n",
       "                .geemap-dark .jupyter-button {\n",
       "                    --jp-layout-color3: #383838;\n",
       "                }\n",
       "\n",
       "                .geemap-colab {\n",
       "                    background-color: var(--colab-primary-surface-color, white);\n",
       "                }\n",
       "\n",
       "                .geemap-colab .jupyter-button {\n",
       "                    --jp-layout-color3: var(--colab-primary-surface-color, white);\n",
       "                }\n",
       "            </style>\n",
       "            "
      ],
      "text/plain": [
       "<IPython.core.display.HTML object>"
      ]
     },
     "metadata": {},
     "output_type": "display_data"
    }
   ],
   "source": [
    "brazil = ee.Image(\n",
    "   'projects/mapbiomas-workspace/public/collection8/mapbiomas_collection80_integration_v1' \n",
    ").select('classification_2020')\n",
    "# brazil"
   ]
  },
  {
   "cell_type": "code",
   "execution_count": 5,
   "id": "79b1ed7f",
   "metadata": {},
   "outputs": [
    {
     "data": {
      "text/html": [
       "\n",
       "            <style>\n",
       "                .geemap-dark {\n",
       "                    --jp-widgets-color: white;\n",
       "                    --jp-widgets-label-color: white;\n",
       "                    --jp-ui-font-color1: white;\n",
       "                    --jp-layout-color2: #454545;\n",
       "                    background-color: #383838;\n",
       "                }\n",
       "\n",
       "                .geemap-dark .jupyter-button {\n",
       "                    --jp-layout-color3: #383838;\n",
       "                }\n",
       "\n",
       "                .geemap-colab {\n",
       "                    background-color: var(--colab-primary-surface-color, white);\n",
       "                }\n",
       "\n",
       "                .geemap-colab .jupyter-button {\n",
       "                    --jp-layout-color3: var(--colab-primary-surface-color, white);\n",
       "                }\n",
       "            </style>\n",
       "            "
      ],
      "text/plain": [
       "<IPython.core.display.HTML object>"
      ]
     },
     "metadata": {},
     "output_type": "display_data"
    }
   ],
   "source": [
    "biomes = ee.FeatureCollection(\n",
    "    'projects/mapbiomas-workspace/AUXILIAR/ESTATISTICAS/COLECAO8/VERSAO-1/refined_biome'    \n",
    ")\n",
    "biome = biomes.filter('FEATURE_ID == 5').first()\n",
    "# biome"
   ]
  },
  {
   "cell_type": "code",
   "execution_count": 6,
   "id": "c66f6b32",
   "metadata": {},
   "outputs": [
    {
     "data": {
      "text/html": [
       "\n",
       "            <style>\n",
       "                .geemap-dark {\n",
       "                    --jp-widgets-color: white;\n",
       "                    --jp-widgets-label-color: white;\n",
       "                    --jp-ui-font-color1: white;\n",
       "                    --jp-layout-color2: #454545;\n",
       "                    background-color: #383838;\n",
       "                }\n",
       "\n",
       "                .geemap-dark .jupyter-button {\n",
       "                    --jp-layout-color3: #383838;\n",
       "                }\n",
       "\n",
       "                .geemap-colab {\n",
       "                    background-color: var(--colab-primary-surface-color, white);\n",
       "                }\n",
       "\n",
       "                .geemap-colab .jupyter-button {\n",
       "                    --jp-layout-color3: var(--colab-primary-surface-color, white);\n",
       "                }\n",
       "            </style>\n",
       "            "
      ],
      "text/plain": [
       "<IPython.core.display.HTML object>"
      ]
     },
     "metadata": {},
     "output_type": "display_data"
    }
   ],
   "source": [
    "florest = brazil.clip(biome)\n",
    "florestFormation = florest.updateMask( florest.eq(3) )"
   ]
  },
  {
   "cell_type": "code",
   "execution_count": 7,
   "id": "bdbaf973",
   "metadata": {},
   "outputs": [
    {
     "data": {
      "text/html": [
       "\n",
       "            <style>\n",
       "                .geemap-dark {\n",
       "                    --jp-widgets-color: white;\n",
       "                    --jp-widgets-label-color: white;\n",
       "                    --jp-ui-font-color1: white;\n",
       "                    --jp-layout-color2: #454545;\n",
       "                    background-color: #383838;\n",
       "                }\n",
       "\n",
       "                .geemap-dark .jupyter-button {\n",
       "                    --jp-layout-color3: #383838;\n",
       "                }\n",
       "\n",
       "                .geemap-colab {\n",
       "                    background-color: var(--colab-primary-surface-color, white);\n",
       "                }\n",
       "\n",
       "                .geemap-colab .jupyter-button {\n",
       "                    --jp-layout-color3: var(--colab-primary-surface-color, white);\n",
       "                }\n",
       "            </style>\n",
       "            "
      ],
      "text/plain": [
       "<IPython.core.display.HTML object>"
      ]
     },
     "metadata": {},
     "output_type": "display_data"
    },
    {
     "data": {
      "application/vnd.jupyter.widget-view+json": {
       "model_id": "f6e055a2e13a40ebae4f80b784ef6bc9",
       "version_major": 2,
       "version_minor": 0
      },
      "text/plain": [
       "Map(center=[0, 0], controls=(WidgetControl(options=['position', 'transparent_bg'], widget=SearchDataGUI(childr…"
      ]
     },
     "metadata": {},
     "output_type": "display_data"
    }
   ],
   "source": [
    "m = geemap.Map()\n",
    "\n",
    "# Add the elevation model to the map object.\n",
    "m.add_ee_layer(florest, visMapbiomes, 'LULC MATA ATLANTICA')\n",
    "\n",
    "# Add the elevation model to the map object.\n",
    "m.add_ee_layer(florestFormation, visMapbiomes, 'LULC MATA ATLANTICA : FORMAÇÃO DE FLORESTA')\n",
    "\n",
    "# Display the map.\n",
    "display(m)"
   ]
  }
 ],
 "metadata": {
  "kernelspec": {
   "display_name": "Python 3 (ipykernel)",
   "language": "python",
   "name": "python3"
  },
  "language_info": {
   "codemirror_mode": {
    "name": "ipython",
    "version": 3
   },
   "file_extension": ".py",
   "mimetype": "text/x-python",
   "name": "python",
   "nbconvert_exporter": "python",
   "pygments_lexer": "ipython3",
   "version": "3.11.6"
  }
 },
 "nbformat": 4,
 "nbformat_minor": 5
}
