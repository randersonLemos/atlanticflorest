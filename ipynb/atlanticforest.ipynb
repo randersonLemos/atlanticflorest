{
 "cells": [
  {
   "cell_type": "code",
   "execution_count": 1,
   "id": "d15bb7c7",
   "metadata": {
    "scrolled": true
   },
   "outputs": [
    {
     "name": "stdout",
     "output_type": "stream",
     "text": [
      "Requirement already satisfied: earthengine-api in /home/mataatlantica/anaconda3/envs/atla/lib/python3.11/site-packages (0.1.395)\n",
      "Requirement already satisfied: geemap in /home/mataatlantica/anaconda3/envs/atla/lib/python3.11/site-packages (0.32.0)\n",
      "Requirement already satisfied: google-cloud-storage in /home/mataatlantica/anaconda3/envs/atla/lib/python3.11/site-packages (from earthengine-api) (2.16.0)\n",
      "Requirement already satisfied: google-api-python-client>=1.12.1 in /home/mataatlantica/anaconda3/envs/atla/lib/python3.11/site-packages (from earthengine-api) (2.123.0)\n",
      "Requirement already satisfied: google-auth>=1.4.1 in /home/mataatlantica/anaconda3/envs/atla/lib/python3.11/site-packages (from earthengine-api) (2.29.0)\n",
      "Requirement already satisfied: google-auth-httplib2>=0.0.3 in /home/mataatlantica/anaconda3/envs/atla/lib/python3.11/site-packages (from earthengine-api) (0.2.0)\n",
      "Requirement already satisfied: httplib2<1dev,>=0.9.2 in /home/mataatlantica/anaconda3/envs/atla/lib/python3.11/site-packages (from earthengine-api) (0.22.0)\n",
      "Requirement already satisfied: requests in /home/mataatlantica/anaconda3/envs/atla/lib/python3.11/site-packages (from earthengine-api) (2.31.0)\n",
      "Requirement already satisfied: bqplot in /home/mataatlantica/anaconda3/envs/atla/lib/python3.11/site-packages (from geemap) (0.12.43)\n",
      "Requirement already satisfied: colour in /home/mataatlantica/anaconda3/envs/atla/lib/python3.11/site-packages (from geemap) (0.1.5)\n",
      "Requirement already satisfied: eerepr>=0.0.4 in /home/mataatlantica/anaconda3/envs/atla/lib/python3.11/site-packages (from geemap) (0.0.4)\n",
      "Requirement already satisfied: folium>=0.13.0 in /home/mataatlantica/anaconda3/envs/atla/lib/python3.11/site-packages (from geemap) (0.16.0)\n",
      "Requirement already satisfied: geocoder in /home/mataatlantica/anaconda3/envs/atla/lib/python3.11/site-packages (from geemap) (1.38.1)\n",
      "Requirement already satisfied: ipyevents in /home/mataatlantica/anaconda3/envs/atla/lib/python3.11/site-packages (from geemap) (2.0.2)\n",
      "Requirement already satisfied: ipyfilechooser>=0.6.0 in /home/mataatlantica/anaconda3/envs/atla/lib/python3.11/site-packages (from geemap) (0.6.0)\n",
      "Requirement already satisfied: ipyleaflet>=0.17.0 in /home/mataatlantica/anaconda3/envs/atla/lib/python3.11/site-packages (from geemap) (0.18.2)\n",
      "Requirement already satisfied: ipytree in /home/mataatlantica/anaconda3/envs/atla/lib/python3.11/site-packages (from geemap) (0.2.2)\n",
      "Requirement already satisfied: matplotlib in /home/mataatlantica/anaconda3/envs/atla/lib/python3.11/site-packages (from geemap) (3.8.0)\n",
      "Requirement already satisfied: numpy in /home/mataatlantica/anaconda3/envs/atla/lib/python3.11/site-packages (from geemap) (1.26.4)\n",
      "Requirement already satisfied: pandas in /home/mataatlantica/anaconda3/envs/atla/lib/python3.11/site-packages (from geemap) (2.2.1)\n",
      "Requirement already satisfied: plotly in /home/mataatlantica/anaconda3/envs/atla/lib/python3.11/site-packages (from geemap) (5.19.0)\n",
      "Requirement already satisfied: pyperclip in /home/mataatlantica/anaconda3/envs/atla/lib/python3.11/site-packages (from geemap) (1.8.2)\n",
      "Requirement already satisfied: pyshp>=2.1.3 in /home/mataatlantica/anaconda3/envs/atla/lib/python3.11/site-packages (from geemap) (2.3.1)\n",
      "Requirement already satisfied: python-box in /home/mataatlantica/anaconda3/envs/atla/lib/python3.11/site-packages (from geemap) (7.1.1)\n",
      "Requirement already satisfied: scooby in /home/mataatlantica/anaconda3/envs/atla/lib/python3.11/site-packages (from geemap) (0.9.2)\n",
      "Requirement already satisfied: branca>=0.6.0 in /home/mataatlantica/anaconda3/envs/atla/lib/python3.11/site-packages (from folium>=0.13.0->geemap) (0.7.1)\n",
      "Requirement already satisfied: jinja2>=2.9 in /home/mataatlantica/anaconda3/envs/atla/lib/python3.11/site-packages (from folium>=0.13.0->geemap) (3.1.3)\n",
      "Requirement already satisfied: xyzservices in /home/mataatlantica/anaconda3/envs/atla/lib/python3.11/site-packages (from folium>=0.13.0->geemap) (2023.10.1)\n",
      "Requirement already satisfied: google-api-core!=2.0.*,!=2.1.*,!=2.2.*,!=2.3.0,<3.0.0.dev0,>=1.31.5 in /home/mataatlantica/anaconda3/envs/atla/lib/python3.11/site-packages (from google-api-python-client>=1.12.1->earthengine-api) (2.18.0)\n",
      "Requirement already satisfied: uritemplate<5,>=3.0.1 in /home/mataatlantica/anaconda3/envs/atla/lib/python3.11/site-packages (from google-api-python-client>=1.12.1->earthengine-api) (4.1.1)\n",
      "Requirement already satisfied: cachetools<6.0,>=2.0.0 in /home/mataatlantica/anaconda3/envs/atla/lib/python3.11/site-packages (from google-auth>=1.4.1->earthengine-api) (5.3.3)\n",
      "Requirement already satisfied: pyasn1-modules>=0.2.1 in /home/mataatlantica/anaconda3/envs/atla/lib/python3.11/site-packages (from google-auth>=1.4.1->earthengine-api) (0.3.0)\n",
      "Requirement already satisfied: rsa<5,>=3.1.4 in /home/mataatlantica/anaconda3/envs/atla/lib/python3.11/site-packages (from google-auth>=1.4.1->earthengine-api) (4.9)\n",
      "Requirement already satisfied: pyparsing!=3.0.0,!=3.0.1,!=3.0.2,!=3.0.3,<4,>=2.4.2 in /home/mataatlantica/anaconda3/envs/atla/lib/python3.11/site-packages (from httplib2<1dev,>=0.9.2->earthengine-api) (3.0.9)\n",
      "Requirement already satisfied: ipywidgets in /home/mataatlantica/anaconda3/envs/atla/lib/python3.11/site-packages (from ipyfilechooser>=0.6.0->geemap) (8.1.2)\n",
      "Requirement already satisfied: traittypes<3,>=0.2.1 in /home/mataatlantica/anaconda3/envs/atla/lib/python3.11/site-packages (from ipyleaflet>=0.17.0->geemap) (0.2.1)\n",
      "Requirement already satisfied: traitlets>=4.3.0 in /home/mataatlantica/anaconda3/envs/atla/lib/python3.11/site-packages (from bqplot->geemap) (5.14.2)\n",
      "Requirement already satisfied: python-dateutil>=2.8.2 in /home/mataatlantica/anaconda3/envs/atla/lib/python3.11/site-packages (from pandas->geemap) (2.9.0)\n",
      "Requirement already satisfied: pytz>=2020.1 in /home/mataatlantica/anaconda3/envs/atla/lib/python3.11/site-packages (from pandas->geemap) (2024.1)\n",
      "Requirement already satisfied: tzdata>=2022.7 in /home/mataatlantica/anaconda3/envs/atla/lib/python3.11/site-packages (from pandas->geemap) (2024.1)\n",
      "Requirement already satisfied: ratelim in /home/mataatlantica/anaconda3/envs/atla/lib/python3.11/site-packages (from geocoder->geemap) (0.1.6)\n",
      "Requirement already satisfied: click in /home/mataatlantica/anaconda3/envs/atla/lib/python3.11/site-packages (from geocoder->geemap) (8.1.7)\n",
      "Requirement already satisfied: six in /home/mataatlantica/anaconda3/envs/atla/lib/python3.11/site-packages (from geocoder->geemap) (1.16.0)\n",
      "Requirement already satisfied: future in /home/mataatlantica/anaconda3/envs/atla/lib/python3.11/site-packages (from geocoder->geemap) (1.0.0)\n",
      "Requirement already satisfied: google-cloud-core<3.0dev,>=2.3.0 in /home/mataatlantica/anaconda3/envs/atla/lib/python3.11/site-packages (from google-cloud-storage->earthengine-api) (2.4.1)\n",
      "Requirement already satisfied: google-resumable-media>=2.6.0 in /home/mataatlantica/anaconda3/envs/atla/lib/python3.11/site-packages (from google-cloud-storage->earthengine-api) (2.7.0)\n",
      "Requirement already satisfied: google-crc32c<2.0dev,>=1.0 in /home/mataatlantica/anaconda3/envs/atla/lib/python3.11/site-packages (from google-cloud-storage->earthengine-api) (1.1.2)\n",
      "Requirement already satisfied: charset-normalizer<4,>=2 in /home/mataatlantica/anaconda3/envs/atla/lib/python3.11/site-packages (from requests->earthengine-api) (3.3.2)\n",
      "Requirement already satisfied: idna<4,>=2.5 in /home/mataatlantica/anaconda3/envs/atla/lib/python3.11/site-packages (from requests->earthengine-api) (3.6)\n",
      "Requirement already satisfied: urllib3<3,>=1.21.1 in /home/mataatlantica/anaconda3/envs/atla/lib/python3.11/site-packages (from requests->earthengine-api) (2.2.1)\n",
      "Requirement already satisfied: certifi>=2017.4.17 in /home/mataatlantica/anaconda3/envs/atla/lib/python3.11/site-packages (from requests->earthengine-api) (2024.2.2)\n",
      "Requirement already satisfied: contourpy>=1.0.1 in /home/mataatlantica/anaconda3/envs/atla/lib/python3.11/site-packages (from matplotlib->geemap) (1.2.0)\n",
      "Requirement already satisfied: cycler>=0.10 in /home/mataatlantica/anaconda3/envs/atla/lib/python3.11/site-packages (from matplotlib->geemap) (0.12.1)\n",
      "Requirement already satisfied: fonttools>=4.22.0 in /home/mataatlantica/anaconda3/envs/atla/lib/python3.11/site-packages (from matplotlib->geemap) (4.50.0)\n",
      "Requirement already satisfied: kiwisolver>=1.0.1 in /home/mataatlantica/anaconda3/envs/atla/lib/python3.11/site-packages (from matplotlib->geemap) (1.4.4)\n",
      "Requirement already satisfied: packaging>=20.0 in /home/mataatlantica/anaconda3/envs/atla/lib/python3.11/site-packages (from matplotlib->geemap) (24.0)\n",
      "Requirement already satisfied: pillow>=6.2.0 in /home/mataatlantica/anaconda3/envs/atla/lib/python3.11/site-packages (from matplotlib->geemap) (10.2.0)\n",
      "Requirement already satisfied: tenacity>=6.2.0 in /home/mataatlantica/anaconda3/envs/atla/lib/python3.11/site-packages (from plotly->geemap) (8.2.3)\n"
     ]
    },
    {
     "name": "stdout",
     "output_type": "stream",
     "text": [
      "Requirement already satisfied: googleapis-common-protos<2.0.dev0,>=1.56.2 in /home/mataatlantica/anaconda3/envs/atla/lib/python3.11/site-packages (from google-api-core!=2.0.*,!=2.1.*,!=2.2.*,!=2.3.0,<3.0.0.dev0,>=1.31.5->google-api-python-client>=1.12.1->earthengine-api) (1.63.0)\n",
      "Requirement already satisfied: protobuf!=3.20.0,!=3.20.1,!=4.21.0,!=4.21.1,!=4.21.2,!=4.21.3,!=4.21.4,!=4.21.5,<5.0.0.dev0,>=3.19.5 in /home/mataatlantica/anaconda3/envs/atla/lib/python3.11/site-packages (from google-api-core!=2.0.*,!=2.1.*,!=2.2.*,!=2.3.0,<3.0.0.dev0,>=1.31.5->google-api-python-client>=1.12.1->earthengine-api) (3.20.3)\n",
      "Requirement already satisfied: proto-plus<2.0.0dev,>=1.22.3 in /home/mataatlantica/anaconda3/envs/atla/lib/python3.11/site-packages (from google-api-core!=2.0.*,!=2.1.*,!=2.2.*,!=2.3.0,<3.0.0.dev0,>=1.31.5->google-api-python-client>=1.12.1->earthengine-api) (1.23.0)\n",
      "Requirement already satisfied: cffi>=1.0.0 in /home/mataatlantica/anaconda3/envs/atla/lib/python3.11/site-packages (from google-crc32c<2.0dev,>=1.0->google-cloud-storage->earthengine-api) (1.16.0)\n",
      "Requirement already satisfied: comm>=0.1.3 in /home/mataatlantica/anaconda3/envs/atla/lib/python3.11/site-packages (from ipywidgets->ipyfilechooser>=0.6.0->geemap) (0.2.2)\n",
      "Requirement already satisfied: ipython>=6.1.0 in /home/mataatlantica/anaconda3/envs/atla/lib/python3.11/site-packages (from ipywidgets->ipyfilechooser>=0.6.0->geemap) (8.22.2)\n",
      "Requirement already satisfied: widgetsnbextension~=4.0.10 in /home/mataatlantica/anaconda3/envs/atla/lib/python3.11/site-packages (from ipywidgets->ipyfilechooser>=0.6.0->geemap) (4.0.10)\n",
      "Requirement already satisfied: jupyterlab-widgets~=3.0.10 in /home/mataatlantica/anaconda3/envs/atla/lib/python3.11/site-packages (from ipywidgets->ipyfilechooser>=0.6.0->geemap) (3.0.10)\n",
      "Requirement already satisfied: MarkupSafe>=2.0 in /home/mataatlantica/anaconda3/envs/atla/lib/python3.11/site-packages (from jinja2>=2.9->folium>=0.13.0->geemap) (2.1.5)\n",
      "Requirement already satisfied: pyasn1<0.6.0,>=0.4.6 in /home/mataatlantica/anaconda3/envs/atla/lib/python3.11/site-packages (from pyasn1-modules>=0.2.1->google-auth>=1.4.1->earthengine-api) (0.5.1)\n",
      "Requirement already satisfied: decorator in /home/mataatlantica/anaconda3/envs/atla/lib/python3.11/site-packages (from ratelim->geocoder->geemap) (5.1.1)\n",
      "Requirement already satisfied: pycparser in /home/mataatlantica/anaconda3/envs/atla/lib/python3.11/site-packages (from cffi>=1.0.0->google-crc32c<2.0dev,>=1.0->google-cloud-storage->earthengine-api) (2.21)\n",
      "Requirement already satisfied: jedi>=0.16 in /home/mataatlantica/anaconda3/envs/atla/lib/python3.11/site-packages (from ipython>=6.1.0->ipywidgets->ipyfilechooser>=0.6.0->geemap) (0.19.1)\n",
      "Requirement already satisfied: matplotlib-inline in /home/mataatlantica/anaconda3/envs/atla/lib/python3.11/site-packages (from ipython>=6.1.0->ipywidgets->ipyfilechooser>=0.6.0->geemap) (0.1.6)\n",
      "Requirement already satisfied: prompt-toolkit<3.1.0,>=3.0.41 in /home/mataatlantica/anaconda3/envs/atla/lib/python3.11/site-packages (from ipython>=6.1.0->ipywidgets->ipyfilechooser>=0.6.0->geemap) (3.0.42)\n",
      "Requirement already satisfied: pygments>=2.4.0 in /home/mataatlantica/anaconda3/envs/atla/lib/python3.11/site-packages (from ipython>=6.1.0->ipywidgets->ipyfilechooser>=0.6.0->geemap) (2.17.2)\n",
      "Requirement already satisfied: stack-data in /home/mataatlantica/anaconda3/envs/atla/lib/python3.11/site-packages (from ipython>=6.1.0->ipywidgets->ipyfilechooser>=0.6.0->geemap) (0.6.2)\n",
      "Requirement already satisfied: pexpect>4.3 in /home/mataatlantica/anaconda3/envs/atla/lib/python3.11/site-packages (from ipython>=6.1.0->ipywidgets->ipyfilechooser>=0.6.0->geemap) (4.9.0)\n",
      "Requirement already satisfied: parso<0.9.0,>=0.8.3 in /home/mataatlantica/anaconda3/envs/atla/lib/python3.11/site-packages (from jedi>=0.16->ipython>=6.1.0->ipywidgets->ipyfilechooser>=0.6.0->geemap) (0.8.3)\n",
      "Requirement already satisfied: ptyprocess>=0.5 in /home/mataatlantica/anaconda3/envs/atla/lib/python3.11/site-packages (from pexpect>4.3->ipython>=6.1.0->ipywidgets->ipyfilechooser>=0.6.0->geemap) (0.7.0)\n",
      "Requirement already satisfied: wcwidth in /home/mataatlantica/anaconda3/envs/atla/lib/python3.11/site-packages (from prompt-toolkit<3.1.0,>=3.0.41->ipython>=6.1.0->ipywidgets->ipyfilechooser>=0.6.0->geemap) (0.2.13)\n",
      "Requirement already satisfied: executing>=1.2.0 in /home/mataatlantica/anaconda3/envs/atla/lib/python3.11/site-packages (from stack-data->ipython>=6.1.0->ipywidgets->ipyfilechooser>=0.6.0->geemap) (2.0.1)\n",
      "Requirement already satisfied: asttokens>=2.1.0 in /home/mataatlantica/anaconda3/envs/atla/lib/python3.11/site-packages (from stack-data->ipython>=6.1.0->ipywidgets->ipyfilechooser>=0.6.0->geemap) (2.4.1)\n",
      "Requirement already satisfied: pure-eval in /home/mataatlantica/anaconda3/envs/atla/lib/python3.11/site-packages (from stack-data->ipython>=6.1.0->ipywidgets->ipyfilechooser>=0.6.0->geemap) (0.2.2)\n"
     ]
    }
   ],
   "source": [
    "!pip install earthengine-api geemap --upgrade"
   ]
  },
  {
   "cell_type": "code",
   "execution_count": 2,
   "id": "18fd9fb7",
   "metadata": {},
   "outputs": [],
   "source": [
    "# Set visualization parameters.\n",
    "visMapbiomes = {\n",
    "  'min': 0,\n",
    "  'max': 65,\n",
    "  'palette': [\n",
    "    '#ffffff', '#32a65e', '#32a65e', '#1f8d49', '#7dc975', '#04381d',\n",
    "    '#026975', '#000000', '#000000', '#7a6c00', '#ad975a', '#519799',\n",
    "    '#d6bc74', '#d89f5c', '#FFFFB2', '#edde8e', '#000000', '#000000',\n",
    "    '#f5b3c8', '#C27BA0', '#db7093', '#ffefc3', '#db4d4f', '#ffa07a',\n",
    "    '#d4271e', '#db4d4f', '#0000FF', '#000000', '#000000', '#ffaa5f',\n",
    "    '#9c0027', '#091077', '#fc8114', '#2532e4', '#93dfe6', '#9065d0',\n",
    "    '#d082de', '#000000', '#000000', '#f5b3c8', '#c71585', '#f54ca9',\n",
    "    '#a5b35b', '#c2d26b', '#cbe286', '#807a40', '#d68fe2', '#9932cc',\n",
    "    '#e6ccff', '#02d659', '#ad5100', '#000000', '#000000', '#000000',\n",
    "    '#000000', '#000000', '#000000', '#f99fff', '#d84690', '#006400',\n",
    "    '#8d9e8b', '#f5d5d5', '#ff69b4', '#000000', '#000000', '#b9158a'\n",
    "]}\n",
    "\n",
    "import ee\n",
    "import geemap\n",
    "\n",
    "# Trigger the authentication flow.\n",
    "ee.Authenticate()\n",
    "\n",
    "# Initialize the library.\n",
    "ee.Initialize(project='ee-mataatlantica')"
   ]
  },
  {
   "cell_type": "code",
   "execution_count": 3,
   "id": "b0515ddd",
   "metadata": {
    "scrolled": true
   },
   "outputs": [
    {
     "data": {
      "text/html": [
       "\n",
       "            <style>\n",
       "                .geemap-dark {\n",
       "                    --jp-widgets-color: white;\n",
       "                    --jp-widgets-label-color: white;\n",
       "                    --jp-ui-font-color1: white;\n",
       "                    --jp-layout-color2: #454545;\n",
       "                    background-color: #383838;\n",
       "                }\n",
       "\n",
       "                .geemap-dark .jupyter-button {\n",
       "                    --jp-layout-color3: #383838;\n",
       "                }\n",
       "\n",
       "                .geemap-colab {\n",
       "                    background-color: var(--colab-primary-surface-color, white);\n",
       "                }\n",
       "\n",
       "                .geemap-colab .jupyter-button {\n",
       "                    --jp-layout-color3: var(--colab-primary-surface-color, white);\n",
       "                }\n",
       "            </style>\n",
       "            "
      ],
      "text/plain": [
       "<IPython.core.display.HTML object>"
      ]
     },
     "metadata": {},
     "output_type": "display_data"
    }
   ],
   "source": [
    "brazil = ee.Image(\n",
    "   'projects/mapbiomas-workspace/public/collection8/mapbiomas_collection80_integration_v1' \n",
    ")#.select('classification_2020')\n",
    "# brazil"
   ]
  },
  {
   "cell_type": "code",
   "execution_count": 4,
   "id": "79b1ed7f",
   "metadata": {},
   "outputs": [
    {
     "data": {
      "text/html": [
       "\n",
       "            <style>\n",
       "                .geemap-dark {\n",
       "                    --jp-widgets-color: white;\n",
       "                    --jp-widgets-label-color: white;\n",
       "                    --jp-ui-font-color1: white;\n",
       "                    --jp-layout-color2: #454545;\n",
       "                    background-color: #383838;\n",
       "                }\n",
       "\n",
       "                .geemap-dark .jupyter-button {\n",
       "                    --jp-layout-color3: #383838;\n",
       "                }\n",
       "\n",
       "                .geemap-colab {\n",
       "                    background-color: var(--colab-primary-surface-color, white);\n",
       "                }\n",
       "\n",
       "                .geemap-colab .jupyter-button {\n",
       "                    --jp-layout-color3: var(--colab-primary-surface-color, white);\n",
       "                }\n",
       "            </style>\n",
       "            "
      ],
      "text/plain": [
       "<IPython.core.display.HTML object>"
      ]
     },
     "metadata": {},
     "output_type": "display_data"
    }
   ],
   "source": [
    "biomes = ee.FeatureCollection(\n",
    "    'projects/mapbiomas-workspace/AUXILIAR/ESTATISTICAS/COLECAO8/VERSAO-1/refined_biome'    \n",
    ")\n",
    "biome = biomes.filter('FEATURE_ID == 5').first()\n",
    "# biome"
   ]
  },
  {
   "cell_type": "code",
   "execution_count": 5,
   "id": "c66f6b32",
   "metadata": {},
   "outputs": [
    {
     "data": {
      "text/html": [
       "\n",
       "            <style>\n",
       "                .geemap-dark {\n",
       "                    --jp-widgets-color: white;\n",
       "                    --jp-widgets-label-color: white;\n",
       "                    --jp-ui-font-color1: white;\n",
       "                    --jp-layout-color2: #454545;\n",
       "                    background-color: #383838;\n",
       "                }\n",
       "\n",
       "                .geemap-dark .jupyter-button {\n",
       "                    --jp-layout-color3: #383838;\n",
       "                }\n",
       "\n",
       "                .geemap-colab {\n",
       "                    background-color: var(--colab-primary-surface-color, white);\n",
       "                }\n",
       "\n",
       "                .geemap-colab .jupyter-button {\n",
       "                    --jp-layout-color3: var(--colab-primary-surface-color, white);\n",
       "                }\n",
       "            </style>\n",
       "            "
      ],
      "text/plain": [
       "<IPython.core.display.HTML object>"
      ]
     },
     "metadata": {},
     "output_type": "display_data"
    }
   ],
   "source": [
    "florest = brazil.clip(biome)\n",
    "florestFormation = florest.updateMask( florest.eq(3) )"
   ]
  },
  {
   "cell_type": "code",
   "execution_count": 6,
   "id": "bdbaf973",
   "metadata": {},
   "outputs": [
    {
     "data": {
      "text/html": [
       "\n",
       "            <style>\n",
       "                .geemap-dark {\n",
       "                    --jp-widgets-color: white;\n",
       "                    --jp-widgets-label-color: white;\n",
       "                    --jp-ui-font-color1: white;\n",
       "                    --jp-layout-color2: #454545;\n",
       "                    background-color: #383838;\n",
       "                }\n",
       "\n",
       "                .geemap-dark .jupyter-button {\n",
       "                    --jp-layout-color3: #383838;\n",
       "                }\n",
       "\n",
       "                .geemap-colab {\n",
       "                    background-color: var(--colab-primary-surface-color, white);\n",
       "                }\n",
       "\n",
       "                .geemap-colab .jupyter-button {\n",
       "                    --jp-layout-color3: var(--colab-primary-surface-color, white);\n",
       "                }\n",
       "            </style>\n",
       "            "
      ],
      "text/plain": [
       "<IPython.core.display.HTML object>"
      ]
     },
     "metadata": {},
     "output_type": "display_data"
    },
    {
     "ename": "EEException",
     "evalue": "Image.visualize: Cannot provide a palette when visualizing more than one band.",
     "output_type": "error",
     "traceback": [
      "\u001b[0;31m---------------------------------------------------------------------------\u001b[0m",
      "\u001b[0;31mHttpError\u001b[0m                                 Traceback (most recent call last)",
      "File \u001b[0;32m~/anaconda3/envs/atla/lib/python3.11/site-packages/ee/data.py:402\u001b[0m, in \u001b[0;36m_execute_cloud_call\u001b[0;34m(call, num_retries)\u001b[0m\n\u001b[1;32m    401\u001b[0m \u001b[38;5;28;01mtry\u001b[39;00m:\n\u001b[0;32m--> 402\u001b[0m   \u001b[38;5;28;01mreturn\u001b[39;00m \u001b[43mcall\u001b[49m\u001b[38;5;241;43m.\u001b[39;49m\u001b[43mexecute\u001b[49m\u001b[43m(\u001b[49m\u001b[43mnum_retries\u001b[49m\u001b[38;5;241;43m=\u001b[39;49m\u001b[43mnum_retries\u001b[49m\u001b[43m)\u001b[49m\n\u001b[1;32m    403\u001b[0m \u001b[38;5;28;01mexcept\u001b[39;00m googleapiclient\u001b[38;5;241m.\u001b[39merrors\u001b[38;5;241m.\u001b[39mHttpError \u001b[38;5;28;01mas\u001b[39;00m e:\n",
      "File \u001b[0;32m~/anaconda3/envs/atla/lib/python3.11/site-packages/googleapiclient/_helpers.py:130\u001b[0m, in \u001b[0;36mpositional.<locals>.positional_decorator.<locals>.positional_wrapper\u001b[0;34m(*args, **kwargs)\u001b[0m\n\u001b[1;32m    129\u001b[0m         logger\u001b[38;5;241m.\u001b[39mwarning(message)\n\u001b[0;32m--> 130\u001b[0m \u001b[38;5;28;01mreturn\u001b[39;00m \u001b[43mwrapped\u001b[49m\u001b[43m(\u001b[49m\u001b[38;5;241;43m*\u001b[39;49m\u001b[43margs\u001b[49m\u001b[43m,\u001b[49m\u001b[43m \u001b[49m\u001b[38;5;241;43m*\u001b[39;49m\u001b[38;5;241;43m*\u001b[39;49m\u001b[43mkwargs\u001b[49m\u001b[43m)\u001b[49m\n",
      "File \u001b[0;32m~/anaconda3/envs/atla/lib/python3.11/site-packages/googleapiclient/http.py:938\u001b[0m, in \u001b[0;36mHttpRequest.execute\u001b[0;34m(self, http, num_retries)\u001b[0m\n\u001b[1;32m    937\u001b[0m \u001b[38;5;28;01mif\u001b[39;00m resp\u001b[38;5;241m.\u001b[39mstatus \u001b[38;5;241m>\u001b[39m\u001b[38;5;241m=\u001b[39m \u001b[38;5;241m300\u001b[39m:\n\u001b[0;32m--> 938\u001b[0m     \u001b[38;5;28;01mraise\u001b[39;00m HttpError(resp, content, uri\u001b[38;5;241m=\u001b[39m\u001b[38;5;28mself\u001b[39m\u001b[38;5;241m.\u001b[39muri)\n\u001b[1;32m    939\u001b[0m \u001b[38;5;28;01mreturn\u001b[39;00m \u001b[38;5;28mself\u001b[39m\u001b[38;5;241m.\u001b[39mpostproc(resp, content)\n",
      "\u001b[0;31mHttpError\u001b[0m: <HttpError 400 when requesting https://earthengine.googleapis.com/v1/projects/ee-mataatlantica/maps?fields=name&alt=json returned \"Image.visualize: Cannot provide a palette when visualizing more than one band.\". Details: \"Image.visualize: Cannot provide a palette when visualizing more than one band.\">",
      "\nDuring handling of the above exception, another exception occurred:\n",
      "\u001b[0;31mEEException\u001b[0m                               Traceback (most recent call last)",
      "Cell \u001b[0;32mIn[6], line 4\u001b[0m\n\u001b[1;32m      1\u001b[0m m \u001b[38;5;241m=\u001b[39m geemap\u001b[38;5;241m.\u001b[39mMap()\n\u001b[1;32m      3\u001b[0m \u001b[38;5;66;03m# Add the elevation model to the map object.\u001b[39;00m\n\u001b[0;32m----> 4\u001b[0m \u001b[43mm\u001b[49m\u001b[38;5;241;43m.\u001b[39;49m\u001b[43madd_ee_layer\u001b[49m\u001b[43m(\u001b[49m\u001b[43mflorest\u001b[49m\u001b[43m,\u001b[49m\u001b[43m \u001b[49m\u001b[43mvisMapbiomes\u001b[49m\u001b[43m,\u001b[49m\u001b[43m \u001b[49m\u001b[38;5;124;43m'\u001b[39;49m\u001b[38;5;124;43mLULC MATA ATLANTICA\u001b[39;49m\u001b[38;5;124;43m'\u001b[39;49m\u001b[43m)\u001b[49m\n\u001b[1;32m      6\u001b[0m \u001b[38;5;66;03m# Add the elevation model to the map object.\u001b[39;00m\n\u001b[1;32m      7\u001b[0m m\u001b[38;5;241m.\u001b[39madd_ee_layer(florestFormation, visMapbiomes, \u001b[38;5;124m'\u001b[39m\u001b[38;5;124mLULC MATA ATLANTICA : FORMAÇÃO DE FLORESTA\u001b[39m\u001b[38;5;124m'\u001b[39m)\n",
      "File \u001b[0;32m~/anaconda3/envs/atla/lib/python3.11/site-packages/geemap/geemap.py:342\u001b[0m, in \u001b[0;36mMap.add_ee_layer\u001b[0;34m(self, ee_object, vis_params, name, shown, opacity)\u001b[0m\n\u001b[1;32m    337\u001b[0m         \u001b[38;5;28;01mif\u001b[39;00m has_plot_dropdown:\n\u001b[1;32m    338\u001b[0m             \u001b[38;5;28mself\u001b[39m\u001b[38;5;241m.\u001b[39m_plot_dropdown_widget\u001b[38;5;241m.\u001b[39moptions \u001b[38;5;241m=\u001b[39m \u001b[38;5;28mlist\u001b[39m(\n\u001b[1;32m    339\u001b[0m                 \u001b[38;5;28mself\u001b[39m\u001b[38;5;241m.\u001b[39mee_raster_layers\u001b[38;5;241m.\u001b[39mkeys()\n\u001b[1;32m    340\u001b[0m             )\n\u001b[0;32m--> 342\u001b[0m \u001b[38;5;28;43msuper\u001b[39;49m\u001b[43m(\u001b[49m\u001b[43m)\u001b[49m\u001b[38;5;241;43m.\u001b[39;49m\u001b[43madd_layer\u001b[49m\u001b[43m(\u001b[49m\u001b[43mee_object\u001b[49m\u001b[43m,\u001b[49m\u001b[43m \u001b[49m\u001b[43mvis_params\u001b[49m\u001b[43m,\u001b[49m\u001b[43m \u001b[49m\u001b[43mname\u001b[49m\u001b[43m,\u001b[49m\u001b[43m \u001b[49m\u001b[43mshown\u001b[49m\u001b[43m,\u001b[49m\u001b[43m \u001b[49m\u001b[43mopacity\u001b[49m\u001b[43m)\u001b[49m\n\u001b[1;32m    344\u001b[0m \u001b[38;5;28;01mif\u001b[39;00m \u001b[38;5;28misinstance\u001b[39m(ee_object, (ee\u001b[38;5;241m.\u001b[39mImage, ee\u001b[38;5;241m.\u001b[39mImageCollection)):\n\u001b[1;32m    345\u001b[0m     \u001b[38;5;28;01mif\u001b[39;00m has_plot_dropdown:\n",
      "File \u001b[0;32m~/anaconda3/envs/atla/lib/python3.11/site-packages/geemap/core.py:754\u001b[0m, in \u001b[0;36mMap.add_layer\u001b[0;34m(self, ee_object, vis_params, name, shown, opacity)\u001b[0m\n\u001b[1;32m    752\u001b[0m \u001b[38;5;28;01mif\u001b[39;00m name \u001b[38;5;129;01mis\u001b[39;00m \u001b[38;5;28;01mNone\u001b[39;00m:\n\u001b[1;32m    753\u001b[0m     name \u001b[38;5;241m=\u001b[39m \u001b[38;5;124mf\u001b[39m\u001b[38;5;124m\"\u001b[39m\u001b[38;5;124mLayer \u001b[39m\u001b[38;5;132;01m{\u001b[39;00m\u001b[38;5;28mlen\u001b[39m(\u001b[38;5;28mself\u001b[39m\u001b[38;5;241m.\u001b[39mee_layers)\u001b[38;5;250m \u001b[39m\u001b[38;5;241m+\u001b[39m\u001b[38;5;250m \u001b[39m\u001b[38;5;241m1\u001b[39m\u001b[38;5;132;01m}\u001b[39;00m\u001b[38;5;124m\"\u001b[39m\n\u001b[0;32m--> 754\u001b[0m tile_layer \u001b[38;5;241m=\u001b[39m \u001b[43mee_tile_layers\u001b[49m\u001b[38;5;241;43m.\u001b[39;49m\u001b[43mEELeafletTileLayer\u001b[49m\u001b[43m(\u001b[49m\n\u001b[1;32m    755\u001b[0m \u001b[43m    \u001b[49m\u001b[43mee_object\u001b[49m\u001b[43m,\u001b[49m\u001b[43m \u001b[49m\u001b[43mvis_params\u001b[49m\u001b[43m,\u001b[49m\u001b[43m \u001b[49m\u001b[43mname\u001b[49m\u001b[43m,\u001b[49m\u001b[43m \u001b[49m\u001b[43mshown\u001b[49m\u001b[43m,\u001b[49m\u001b[43m \u001b[49m\u001b[43mopacity\u001b[49m\n\u001b[1;32m    756\u001b[0m \u001b[43m\u001b[49m\u001b[43m)\u001b[49m\n\u001b[1;32m    758\u001b[0m \u001b[38;5;66;03m# Remove the layer if it already exists.\u001b[39;00m\n\u001b[1;32m    759\u001b[0m \u001b[38;5;28mself\u001b[39m\u001b[38;5;241m.\u001b[39mremove(name)\n",
      "File \u001b[0;32m~/anaconda3/envs/atla/lib/python3.11/site-packages/geemap/ee_tile_layers.py:144\u001b[0m, in \u001b[0;36mEELeafletTileLayer.__init__\u001b[0;34m(self, ee_object, vis_params, name, shown, opacity, **kwargs)\u001b[0m\n\u001b[1;32m    134\u001b[0m \u001b[38;5;250m\u001b[39m\u001b[38;5;124;03m\"\"\"Initialize the ipyleaflet tile layer.\u001b[39;00m\n\u001b[1;32m    135\u001b[0m \n\u001b[1;32m    136\u001b[0m \u001b[38;5;124;03mArgs:\u001b[39;00m\n\u001b[0;32m   (...)\u001b[0m\n\u001b[1;32m    141\u001b[0m \u001b[38;5;124;03m    opacity (float, optional): The layer's opacity represented as a number between 0 and 1. Defaults to 1.\u001b[39;00m\n\u001b[1;32m    142\u001b[0m \u001b[38;5;124;03m\"\"\"\u001b[39;00m\n\u001b[1;32m    143\u001b[0m \u001b[38;5;28mself\u001b[39m\u001b[38;5;241m.\u001b[39m_ee_object \u001b[38;5;241m=\u001b[39m ee_object\n\u001b[0;32m--> 144\u001b[0m \u001b[38;5;28mself\u001b[39m\u001b[38;5;241m.\u001b[39murl_format \u001b[38;5;241m=\u001b[39m \u001b[43m_get_tile_url_format\u001b[49m\u001b[43m(\u001b[49m\n\u001b[1;32m    145\u001b[0m \u001b[43m    \u001b[49m\u001b[43mee_object\u001b[49m\u001b[43m,\u001b[49m\u001b[43m \u001b[49m\u001b[43m_validate_vis_params\u001b[49m\u001b[43m(\u001b[49m\u001b[43mvis_params\u001b[49m\u001b[43m)\u001b[49m\n\u001b[1;32m    146\u001b[0m \u001b[43m\u001b[49m\u001b[43m)\u001b[49m\n\u001b[1;32m    147\u001b[0m \u001b[38;5;28msuper\u001b[39m()\u001b[38;5;241m.\u001b[39m\u001b[38;5;21m__init__\u001b[39m(\n\u001b[1;32m    148\u001b[0m     url\u001b[38;5;241m=\u001b[39m\u001b[38;5;28mself\u001b[39m\u001b[38;5;241m.\u001b[39murl_format,\n\u001b[1;32m    149\u001b[0m     attribution\u001b[38;5;241m=\u001b[39m\u001b[38;5;124m\"\u001b[39m\u001b[38;5;124mGoogle Earth Engine\u001b[39m\u001b[38;5;124m\"\u001b[39m,\n\u001b[0;32m   (...)\u001b[0m\n\u001b[1;32m    154\u001b[0m     \u001b[38;5;241m*\u001b[39m\u001b[38;5;241m*\u001b[39mkwargs,\n\u001b[1;32m    155\u001b[0m )\n",
      "File \u001b[0;32m~/anaconda3/envs/atla/lib/python3.11/site-packages/geemap/ee_tile_layers.py:19\u001b[0m, in \u001b[0;36m_get_tile_url_format\u001b[0;34m(ee_object, vis_params)\u001b[0m\n\u001b[1;32m     17\u001b[0m \u001b[38;5;28;01mdef\u001b[39;00m \u001b[38;5;21m_get_tile_url_format\u001b[39m(ee_object, vis_params):\n\u001b[1;32m     18\u001b[0m     image \u001b[38;5;241m=\u001b[39m _ee_object_to_image(ee_object, vis_params)\n\u001b[0;32m---> 19\u001b[0m     map_id_dict \u001b[38;5;241m=\u001b[39m \u001b[43mee\u001b[49m\u001b[38;5;241;43m.\u001b[39;49m\u001b[43mImage\u001b[49m\u001b[43m(\u001b[49m\u001b[43mimage\u001b[49m\u001b[43m)\u001b[49m\u001b[38;5;241;43m.\u001b[39;49m\u001b[43mgetMapId\u001b[49m\u001b[43m(\u001b[49m\u001b[43mvis_params\u001b[49m\u001b[43m)\u001b[49m\n\u001b[1;32m     20\u001b[0m     \u001b[38;5;28;01mreturn\u001b[39;00m map_id_dict[\u001b[38;5;124m\"\u001b[39m\u001b[38;5;124mtile_fetcher\u001b[39m\u001b[38;5;124m\"\u001b[39m]\u001b[38;5;241m.\u001b[39murl_format\n",
      "File \u001b[0;32m~/anaconda3/envs/atla/lib/python3.11/site-packages/ee/image.py:129\u001b[0m, in \u001b[0;36mImage.getMapId\u001b[0;34m(self, vis_params)\u001b[0m\n\u001b[1;32m    127\u001b[0m vis_image, request \u001b[38;5;241m=\u001b[39m \u001b[38;5;28mself\u001b[39m\u001b[38;5;241m.\u001b[39m_apply_visualization(vis_params)\n\u001b[1;32m    128\u001b[0m request[\u001b[38;5;124m'\u001b[39m\u001b[38;5;124mimage\u001b[39m\u001b[38;5;124m'\u001b[39m] \u001b[38;5;241m=\u001b[39m vis_image\n\u001b[0;32m--> 129\u001b[0m response \u001b[38;5;241m=\u001b[39m \u001b[43mdata\u001b[49m\u001b[38;5;241;43m.\u001b[39;49m\u001b[43mgetMapId\u001b[49m\u001b[43m(\u001b[49m\u001b[43mrequest\u001b[49m\u001b[43m)\u001b[49m\n\u001b[1;32m    130\u001b[0m response[\u001b[38;5;124m'\u001b[39m\u001b[38;5;124mimage\u001b[39m\u001b[38;5;124m'\u001b[39m] \u001b[38;5;241m=\u001b[39m \u001b[38;5;28mself\u001b[39m\n\u001b[1;32m    131\u001b[0m \u001b[38;5;28;01mreturn\u001b[39;00m response\n",
      "File \u001b[0;32m~/anaconda3/envs/atla/lib/python3.11/site-packages/ee/data.py:724\u001b[0m, in \u001b[0;36mgetMapId\u001b[0;34m(params)\u001b[0m\n\u001b[1;32m    719\u001b[0m queryParams \u001b[38;5;241m=\u001b[39m {\n\u001b[1;32m    720\u001b[0m     \u001b[38;5;124m'\u001b[39m\u001b[38;5;124mfields\u001b[39m\u001b[38;5;124m'\u001b[39m: \u001b[38;5;124m'\u001b[39m\u001b[38;5;124mname\u001b[39m\u001b[38;5;124m'\u001b[39m,\n\u001b[1;32m    721\u001b[0m     \u001b[38;5;124m'\u001b[39m\u001b[38;5;124mbody\u001b[39m\u001b[38;5;124m'\u001b[39m: request,\n\u001b[1;32m    722\u001b[0m }\n\u001b[1;32m    723\u001b[0m _maybe_populate_workload_tag(queryParams)\n\u001b[0;32m--> 724\u001b[0m result \u001b[38;5;241m=\u001b[39m \u001b[43m_execute_cloud_call\u001b[49m\u001b[43m(\u001b[49m\n\u001b[1;32m    725\u001b[0m \u001b[43m    \u001b[49m\u001b[43m_get_cloud_projects\u001b[49m\u001b[43m(\u001b[49m\u001b[43m)\u001b[49m\n\u001b[1;32m    726\u001b[0m \u001b[43m    \u001b[49m\u001b[38;5;241;43m.\u001b[39;49m\u001b[43mmaps\u001b[49m\u001b[43m(\u001b[49m\u001b[43m)\u001b[49m\n\u001b[1;32m    727\u001b[0m \u001b[43m    \u001b[49m\u001b[38;5;241;43m.\u001b[39;49m\u001b[43mcreate\u001b[49m\u001b[43m(\u001b[49m\u001b[43mparent\u001b[49m\u001b[38;5;241;43m=\u001b[39;49m\u001b[43m_get_projects_path\u001b[49m\u001b[43m(\u001b[49m\u001b[43m)\u001b[49m\u001b[43m,\u001b[49m\u001b[43m \u001b[49m\u001b[38;5;241;43m*\u001b[39;49m\u001b[38;5;241;43m*\u001b[39;49m\u001b[43mqueryParams\u001b[49m\u001b[43m)\u001b[49m\n\u001b[1;32m    728\u001b[0m \u001b[43m\u001b[49m\u001b[43m)\u001b[49m\n\u001b[1;32m    729\u001b[0m map_name \u001b[38;5;241m=\u001b[39m result[\u001b[38;5;124m'\u001b[39m\u001b[38;5;124mname\u001b[39m\u001b[38;5;124m'\u001b[39m]\n\u001b[1;32m    730\u001b[0m url_format \u001b[38;5;241m=\u001b[39m \u001b[38;5;124m'\u001b[39m\u001b[38;5;132;01m%s\u001b[39;00m\u001b[38;5;124m/\u001b[39m\u001b[38;5;132;01m%s\u001b[39;00m\u001b[38;5;124m/\u001b[39m\u001b[38;5;132;01m%s\u001b[39;00m\u001b[38;5;124m/tiles/\u001b[39m\u001b[38;5;132;01m{z}\u001b[39;00m\u001b[38;5;124m/\u001b[39m\u001b[38;5;132;01m{x}\u001b[39;00m\u001b[38;5;124m/\u001b[39m\u001b[38;5;132;01m{y}\u001b[39;00m\u001b[38;5;124m'\u001b[39m \u001b[38;5;241m%\u001b[39m (\n\u001b[1;32m    731\u001b[0m     _tile_base_url, _cloud_api_utils\u001b[38;5;241m.\u001b[39mVERSION, map_name)\n",
      "File \u001b[0;32m~/anaconda3/envs/atla/lib/python3.11/site-packages/ee/data.py:404\u001b[0m, in \u001b[0;36m_execute_cloud_call\u001b[0;34m(call, num_retries)\u001b[0m\n\u001b[1;32m    402\u001b[0m   \u001b[38;5;28;01mreturn\u001b[39;00m call\u001b[38;5;241m.\u001b[39mexecute(num_retries\u001b[38;5;241m=\u001b[39mnum_retries)\n\u001b[1;32m    403\u001b[0m \u001b[38;5;28;01mexcept\u001b[39;00m googleapiclient\u001b[38;5;241m.\u001b[39merrors\u001b[38;5;241m.\u001b[39mHttpError \u001b[38;5;28;01mas\u001b[39;00m e:\n\u001b[0;32m--> 404\u001b[0m   \u001b[38;5;28;01mraise\u001b[39;00m _translate_cloud_exception(e)\n",
      "\u001b[0;31mEEException\u001b[0m: Image.visualize: Cannot provide a palette when visualizing more than one band."
     ]
    }
   ],
   "source": [
    "m = geemap.Map()\n",
    "\n",
    "# Add the elevation model to the map object.\n",
    "m.add_ee_layer(florest, visMapbiomes, 'LULC MATA ATLANTICA')\n",
    "\n",
    "# Add the elevation model to the map object.\n",
    "m.add_ee_layer(florestFormation, visMapbiomes, 'LULC MATA ATLANTICA : FORMAÇÃO DE FLORESTA')\n",
    "\n",
    "# Display the map.\n",
    "display(m)"
   ]
  },
  {
   "cell_type": "code",
   "execution_count": null,
   "id": "727501e4",
   "metadata": {},
   "outputs": [],
   "source": [
    "\n",
    "\n",
    "\n",
    "\n"
   ]
  }
 ],
 "metadata": {
  "kernelspec": {
   "display_name": "Python 3 (ipykernel)",
   "language": "python",
   "name": "python3"
  },
  "language_info": {
   "codemirror_mode": {
    "name": "ipython",
    "version": 3
   },
   "file_extension": ".py",
   "mimetype": "text/x-python",
   "name": "python",
   "nbconvert_exporter": "python",
   "pygments_lexer": "ipython3",
   "version": "3.11.6"
  }
 },
 "nbformat": 4,
 "nbformat_minor": 5
}
